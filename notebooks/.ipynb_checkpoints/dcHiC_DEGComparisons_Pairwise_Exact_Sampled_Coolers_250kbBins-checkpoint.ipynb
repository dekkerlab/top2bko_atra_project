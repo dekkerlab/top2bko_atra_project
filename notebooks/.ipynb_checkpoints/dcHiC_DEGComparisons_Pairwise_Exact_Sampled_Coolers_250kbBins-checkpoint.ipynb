{
 "cells": [
  {
   "cell_type": "code",
   "execution_count": null,
   "metadata": {},
   "outputs": [],
   "source": [
    "#Trying differential compartment analysis https://github.com/ay-lab/dcHiC"
   ]
  },
  {
   "cell_type": "code",
   "execution_count": null,
   "metadata": {},
   "outputs": [],
   "source": [
    "import pandas as pd\n",
    "import bioframe as bf\n",
    "from scipy import stats\n",
    "import biomart"
   ]
  },
  {
   "cell_type": "code",
   "execution_count": null,
   "metadata": {},
   "outputs": [],
   "source": [
    "#conditions\n",
    "conditions = [\n",
    "    'WT_Ctrl_R1',\n",
    "    'WT_ATRA_R1',\n",
    "    'BKO_Ctrl_R1',\n",
    "    'BKO_ATRA_R1',\n",
    "    'WT_Ctrl_R2',\n",
    "    'WT_ATRA_R2',\n",
    "    'BKO_Ctrl_R2',\n",
    "    'BKO_ATRA_R2'\n",
    "]\n",
    "\n",
    "long_names = {\n",
    "    'WT_Ctrl_R1' : 'CA-HiC-Dpn-SH-SY5Y-WT-Ctrl-4-51-R1-T1',\n",
    "    'WT_ATRA_R1' : 'CA-HiC-Dpn-SH-SY5Y-WT-ATRA-5days-4-51-R1-T1',\n",
    "    'BKO_Ctrl_R1' : 'CA-HiC-Dpn-SH-SY5Y-BKO98-Ctrl-4-51-R1-T1',\n",
    "    'BKO_ATRA_R1' : 'CA-HiC-Dpn-SH-SY5Y-BKO98-ATRA-5days-4-51-R1-T1',\n",
    "    'WT_Ctrl_R2' : 'CA-HiC-Dpn-SH-SY5Y-WT-Ctrl-4-52-R2-T1',\n",
    "    'WT_ATRA_R2' : 'CA-HiC-Dpn-SH-SY5Y-WT-ATRA-5days-4-52-R2-T1',\n",
    "    'BKO_Ctrl_R2' : 'CA-HiC-Dpn-SH-SY5Y-BKO98-Ctrl-4-52-R2-T1',\n",
    "    'BKO_ATRA_R2' : 'CA-HiC-Dpn-SH-SY5Y-BKO98-ATRA-5days-4-52-R2-T1'\n",
    "}"
   ]
  },
  {
   "cell_type": "code",
   "execution_count": null,
   "metadata": {},
   "outputs": [],
   "source": [
    "#add colors for each sample\n",
    "sampleColors = {\n",
    "    'WT_Ctrl_R1' : '#a6cee3',\n",
    "    'WT_ATRA_R1' : '#1f78b4',\n",
    "    'BKO_Ctrl_R1' : '#b2df8a',\n",
    "    'BKO_ATRA_R1' : '#33a02c',\n",
    "    'WT_Ctrl_R2' : '#a6cee3',\n",
    "    'WT_ATRA_R2' : '#1f78b4',\n",
    "    'BKO_Ctrl_R2' : '#b2df8a',\n",
    "    'BKO_ATRA_R2' : '#33a02c',\n",
    "    'WT_Ctrl_R1R2' : '#a6cee3',\n",
    "    'WT_ATRA_R1R2' : '#1f78b4',\n",
    "    'BKO_Ctrl_R1R2' : '#b2df8a',\n",
    "    'BKO_ATRA_R1R2' : '#33a02c'\n",
    "}\n",
    "\n",
    "\n",
    "sampleLineStyles = {\n",
    "    'WT_Ctrl_R1' : '--',\n",
    "    'WT_ATRA_R1' : '--',\n",
    "    'BKO_Ctrl_R1' : '--',\n",
    "    'BKO_ATRA_R1' : '--',\n",
    "    'WT_Ctrl_R2' : ':',\n",
    "    'WT_ATRA_R2' : ':',\n",
    "    'BKO_Ctrl_R2' : ':',\n",
    "    'BKO_ATRA_R2' : ':'}"
   ]
  },
  {
   "cell_type": "code",
   "execution_count": null,
   "metadata": {},
   "outputs": [],
   "source": [
    "SepCtrlConds = [\n",
    "    'WT_Ctrl_R1',\n",
    "    'WT_Ctrl_R1',\n",
    "    'WT_ATRA_R1',\n",
    "    'BKO_Ctrl_R1',\n",
    "    'WT_Ctrl_R2',\n",
    "    'WT_Ctrl_R2',\n",
    "    'WT_ATRA_R2',\n",
    "    'BKO_Ctrl_R2',\n",
    "]\n",
    "\n",
    "SepTreatConds = [\n",
    "    'WT_ATRA_R1',\n",
    "    'BKO_Ctrl_R1',\n",
    "    'BKO_ATRA_R1',\n",
    "    'BKO_ATRA_R1',\n",
    "    'WT_ATRA_R2',\n",
    "    'BKO_Ctrl_R2',\n",
    "    'BKO_ATRA_R2',\n",
    "    'BKO_ATRA_R2',   \n",
    "]"
   ]
  },
  {
   "cell_type": "code",
   "execution_count": null,
   "metadata": {},
   "outputs": [],
   "source": [
    "Treatment_Dict = {\n",
    "    'WT_Ctrl_R1' : 'WT_Ctrl',\n",
    "    'WT_ATRA_R1' : 'WT_ATRA',\n",
    "    'BKO_Ctrl_R1' : 'BKO_Ctrl',\n",
    "    'BKO_ATRA_R1' : 'BKO_ATRA',\n",
    "    'WT_Ctrl_R2' : 'WT_Ctrl',\n",
    "    'WT_ATRA_R2' : 'WT_ATRA',\n",
    "    'BKO_Ctrl_R2' : 'BKO_Ctrl',\n",
    "    'BKO_ATRA_R2' : 'BKO_ATRA'   \n",
    "}"
   ]
  },
  {
   "cell_type": "code",
   "execution_count": null,
   "metadata": {},
   "outputs": [],
   "source": [
    "comparison_pairs = [\n",
    "    ('WT_ATRA', 'WT_Ctrl'),\n",
    "    ('BKO_ATRA', 'BKO_Ctrl'),\n",
    "    ('BKO_Ctrl', 'WT_Ctrl'),\n",
    "    ('BKO_ATRA', 'WT_ATRA')\n",
    "]\n",
    "\n",
    "rep_dict = {\n",
    "    'WT_Ctrl' : ['WT_Ctrl_R1', 'WT_Ctrl_R2'],\n",
    "    'WT_ATRA' : ['WT_ATRA_R1', 'WT_ATRA_R2'],\n",
    "    'BKO_Ctrl' : ['BKO_Ctrl_R1', 'BKO_Ctrl_R2'],\n",
    "    'BKO_ATRA' : ['BKO_ATRA_R1', 'BKO_ATRA_R2']\n",
    "\n",
    "}"
   ]
  },
  {
   "cell_type": "code",
   "execution_count": null,
   "metadata": {},
   "outputs": [],
   "source": [
    "outDataDir = '..'\n",
    "chromsizes = '../hg38_chromsizes_trimmed.txt' #tsv with chromosome name and size in bp"
   ]
  },
  {
   "cell_type": "code",
   "execution_count": null,
   "metadata": {},
   "outputs": [],
   "source": [
    "#coolers - 250kb bins\n",
    "binsize = 250000\n",
    "\n",
    "clr_paths= {}\n",
    "for cond in conditions:\n",
    "    clr_paths[cond] = f'{outDataDir}/data/{long_names[cond]}.sampled.hg38.mapq_30.1000.mcool'"
   ]
  },
  {
   "cell_type": "code",
   "execution_count": null,
   "metadata": {},
   "outputs": [],
   "source": [
    "#First need to convert coolers into hicpro files for this analysis\n",
    "for cond in conditions:\n",
    "    coolfile = clr_paths[cond]\n",
    "    prefix_name = f'{outDataDir}/data/{long_names[cond]}'\n",
    "    !python ./bin/git/dcHiC/utility/preprocess.py -input cool -file $coolfile -genomeFile $chromsizes -res $binsize -prefix $prefix_name\n"
   ]
  },
  {
   "cell_type": "code",
   "execution_count": null,
   "metadata": {},
   "outputs": [],
   "source": [
    "#Make input file for multiple pairwise comparisons - instead of all together\n",
    "\n",
    "dchic_input_files_pairwise = {}\n",
    "\n",
    "for pair in comparison_pairs:\n",
    "    df = pd.DataFrame(columns = ['Matrix', 'Bed', 'Rep_Prefix', 'Treatment_Prefix'])\n",
    "    pair_conds = rep_dict[pair[0]] + rep_dict[pair[1]]\n",
    "    for cond in pair_conds:\n",
    "        df = pd.concat([\n",
    "            df, \n",
    "            pd.DataFrame.from_dict(data = {\n",
    "                'Matrix' : [f'{outDataDir}/data/{long_names[cond]}_{binsize}.matrix'],\n",
    "                'Bed' : [f'{outDataDir}/data/{long_names[cond]}_{binsize}_abs.bed'],\n",
    "                'Rep_Prefix' : [cond],\n",
    "                'Treatment_Prefix' : [Treatment_Dict[cond]]\n",
    "            })], ignore_index = True).reset_index(drop = True)\n",
    "    dchic_input_files_pairwise[pair] = f'{outDataDir}/data/dchic_input_file_{pair[0]}vs{pair[1]}.txt'\n",
    "    df.to_csv(dchic_input_files_pairwise[pair], sep = '\\t', header = False, index = False)"
   ]
  },
  {
   "cell_type": "code",
   "execution_count": null,
   "metadata": {},
   "outputs": [],
   "source": [
    "dchic_input_files_pairwise"
   ]
  },
  {
   "cell_type": "code",
   "execution_count": null,
   "metadata": {},
   "outputs": [],
   "source": [
    "#I don't like the dchic pcas - just chrom arms, not comps...using eigens from cooltools instead\n",
    "#First need to replace NA with 0\n",
    "\n",
    "for cond in conditions:\n",
    "    eigs = pd.read_csv(f'{outDataDir}/data/{long_names[cond]}.250kb.mapq30.byarm.eigs.cis.vecs.E1.bedGraph', header = None, sep = '\\t')\n",
    "    eigs_nona = eigs.dropna()\n",
    "    eigs_nona.to_csv(f'{outDataDir}/data/{long_names[cond]}_FillNA.250kb.mapq30.byarm.eigs.cis.vecs.E1.bedGraph', sep = '\\t', header = False, index = False)"
   ]
  },
  {
   "cell_type": "code",
   "execution_count": null,
   "metadata": {},
   "outputs": [],
   "source": [
    "#make input file for cooltools eigens\n",
    "\n",
    "input_cooltools_eigens = pd.DataFrame(columns = ['EigPath', 'EigType', 'Rep_Prefix', 'Treatment_Prefix'])\n",
    "for cond in conditions:\n",
    "    input_cooltools_eigens = input_cooltools_eigens.append(pd.DataFrame.from_dict(data = {\n",
    "        'EigPath' : [f'{outDataDir}/data/{long_names[cond]}_FillNA.250kb.mapq30.byarm.eigs.cis.vecs.E1.bedGraph'],\n",
    "        'EigType' : ['intra'],\n",
    "        'Rep_Prefix' : [cond],\n",
    "        'Treatment_Prefix' : [Treatment_Dict[cond]]\n",
    "    })).reset_index(drop = True)"
   ]
  },
  {
   "cell_type": "code",
   "execution_count": null,
   "metadata": {},
   "outputs": [],
   "source": [
    "input_cooltools_eigens.to_csv(f'{outDataDir}/data/input_cooltools_eigens.txt', sep = '\\t', header = False, index = False)"
   ]
  },
  {
   "cell_type": "code",
   "execution_count": null,
   "metadata": {},
   "outputs": [],
   "source": [
    "input_cooltools_eigens_filename = f'{outDataDir}/data/input_cooltools_eigens.txt'"
   ]
  },
  {
   "cell_type": "code",
   "execution_count": null,
   "metadata": {},
   "outputs": [],
   "source": [
    "input_cooltools_eigens"
   ]
  },
  {
   "cell_type": "code",
   "execution_count": null,
   "metadata": {},
   "outputs": [],
   "source": [
    "!Rscript /home/eh37w/bin/git/dcHiC/utility/getcHiCinputfromExistingPCs.r --input $input_cooltools_eigens_filename "
   ]
  },
  {
   "cell_type": "code",
   "execution_count": null,
   "metadata": {},
   "outputs": [],
   "source": [
    "#Analyze eigens (from cooltools) for differential regions between pairs of samples\n",
    "\n",
    "for pair in comparison_pairs:\n",
    "    dchic_input_file = dchic_input_files_pairwise[pair]\n",
    "    diff_dir_name = f'{pair[0]}vs{pair[1]}_dcHiC'\n",
    "    !Rscript /home/bin/git/dcHiC/dchicf.r --pcatype analyze --dirovwt T --genome hg38 --file $dchic_input_file --diffdir $diff_dir_name\n"
   ]
  },
  {
   "cell_type": "code",
   "execution_count": null,
   "metadata": {},
   "outputs": [],
   "source": [
    "#call subcompartments using dchic for each pair\n",
    "\n",
    "for pair in comparison_pairs:\n",
    "    dchic_input_file = dchic_input_files_pairwise[pair]\n",
    "    diff_dir_name = f'{pair[0]}vs{pair[1]}_dcHiC'    \n",
    "    !Rscript /home/bin/git/dcHiC/dchicf.r --file $dchic_input_file --pcatype subcomp --dirovwt T --diffdir $diff_dir_name\n",
    "    "
   ]
  },
  {
   "cell_type": "code",
   "execution_count": null,
   "metadata": {},
   "outputs": [],
   "source": [
    "#GSEA for pairwise comparisons\n",
    "for pair in comparison_pairs:\n",
    "    dchic_input_file = dchic_input_files_pairwise[pair]\n",
    "    diff_dir_name = f'{pair[0]}vs{pair[1]}_dcHiC'  \n",
    "    cells1 = pair[0]\n",
    "    cells2 = pair[1]\n",
    "    !Rscript /home/bin/git/dcHiC/dchicf.r --file $dchic_input_file --pcatype enrich --genome hg38 --diffdir $diff_dir_name --region anchor --exclA F --interaction intra --pcscore T --compare T --cells $cells1,$cells2"
   ]
  },
  {
   "cell_type": "code",
   "execution_count": null,
   "metadata": {},
   "outputs": [],
   "source": [
    "for pair in comparison_pairs:\n",
    "    dchic_input_file = dchic_input_files_pairwise[pair]\n",
    "    diff_dir_name = f'{pair[0]}vs{pair[1]}_dcHiC'  \n",
    "    !Rscript /home/bin/git/dcHiC/dchicf.r --file $dchic_input_file --pcatype viz --diffdir $diff_dir_name --genome hg38 "
   ]
  },
  {
   "cell_type": "code",
   "execution_count": null,
   "metadata": {},
   "outputs": [],
   "source": [
    "#For each pairwise comparison - what fraction of the genome has differential compartments?"
   ]
  },
  {
   "cell_type": "code",
   "execution_count": null,
   "metadata": {},
   "outputs": [],
   "source": [
    "eig_binsize = 250000\n",
    "diff_frac_df = pd.DataFrame(columns = ['comparison', 'cond_1', 'cond_2', 'diff_frac', 'diff_size', 'total_size'])\n",
    "for pair in comparison_pairs:\n",
    "    diff_dir_name = f'DifferentialResult/{pair[0]}vs{pair[1]}_dcHiC'  \n",
    "    diff_result_filtered = pd.read_csv(f'{diff_dir_name}/fdr_result/differential.intra_sample_group.Filtered.pcQnm.bedGraph', sep = '\\t')\n",
    "    diff_result_unfiltered = pd.read_csv(f'{diff_dir_name}/fdr_result/differential.intra_sample_group.pcQnm.bedGraph', sep = '\\t')\n",
    "    diff_frac = len(diff_result_filtered['start'])/len(diff_result_unfiltered['start'])\n",
    "    diff_size = len(diff_result_filtered['start'])*250000\n",
    "    total_size = len(diff_result_unfiltered['start'])*250000\n",
    "    diff_frac_df = pd.concat([diff_frac_df, pd.DataFrame({\n",
    "        'comparison' : f'{pair[0]} \\nvs \\n{pair[1]}',\n",
    "        'cond_1' : pair[0],\n",
    "        'cond_2' : pair[1],\n",
    "        'diff_frac' : diff_frac,\n",
    "        'diff_size' : diff_size,\n",
    "        'total_size' : total_size\n",
    "    }, index = [0])], ignore_index = True).reset_index(drop = True)"
   ]
  },
  {
   "cell_type": "code",
   "execution_count": null,
   "metadata": {},
   "outputs": [],
   "source": [
    "diff_frac_df.to_csv(f'{outDataDir}/DifferentialCompartmentFractions_250kb.txt', sep = '\\t', index = False)"
   ]
  },
  {
   "cell_type": "code",
   "execution_count": null,
   "metadata": {},
   "outputs": [],
   "source": [
    "diff_frac_df"
   ]
  },
  {
   "cell_type": "code",
   "execution_count": null,
   "metadata": {},
   "outputs": [],
   "source": [
    "import matplotlib.pyplot as plt\n",
    "import seaborn as sns\n",
    "from matplotlib.gridspec import GridSpec\n",
    "\n",
    "sns.set_style(\"ticks\")\n",
    "sns.set_context(\"paper\")\n",
    "gs = GridSpec(nrows= 1, ncols=1, wspace = 0.6, hspace = 0.6)\n",
    "plt.figure(figsize=(5, 3))\n",
    "\n",
    "cmap_bar = sns.color_palette(['#a6cee3', '#1f78b4', '#b2df8a', '#33a02c'])\n",
    "\n",
    "ax1 = sns.barplot(data = diff_frac_df, x = 'comparison', y = 'diff_frac', palette = cmap_bar)\n",
    "handles, labels = ax1.get_legend_handles_labels()\n",
    "ax1.legend(handles[4:8], labels[4:8], bbox_to_anchor=(1.04,1), frameon = False)\n",
    " \n",
    "plt.title(f'Differential Compartment Fraction')\n",
    "plt.ylabel('Fraction Differential')  \n",
    "plt.xlabel('Comparison')\n",
    "        \n",
    "plt.savefig(f'{outDataDir}/figures/R1R2_HiC_diff_comp_fraction_250kb.png', dpi = 300, bbox_inches = \"tight\")"
   ]
  },
  {
   "cell_type": "code",
   "execution_count": null,
   "metadata": {},
   "outputs": [],
   "source": [
    "#For each pairwise comparison - how many genes are in differential compartments?\n",
    "#Differential A compartments (higher A score than other sample) for each"
   ]
  },
  {
   "cell_type": "code",
   "execution_count": null,
   "metadata": {},
   "outputs": [],
   "source": [
    "comparison_pairs"
   ]
  },
  {
   "cell_type": "code",
   "execution_count": null,
   "metadata": {},
   "outputs": [],
   "source": [
    "diff_gene_df = pd.DataFrame(columns = ['cond_1', 'cond_2', 'cond_1_diff_A_genes', 'cond_2_diff_A_genes'])\n",
    "for pair in comparison_pairs:\n",
    "    diff_dir_name = f'DifferentialResult/{pair[0]}vs{pair[1]}_dcHiC'  \n",
    "    cond1_diff_genes = pd.read_csv(f'{diff_dir_name}/geneEnrichment/comparison_{pair[0]}_vs_{pair[1]}/{pair[0]}_geneEnrichment/{pair[0]}_geneList.anchor.txt', header = None)\n",
    "    cond2_diff_genes = pd.read_csv(f'{diff_dir_name}/geneEnrichment/comparison_{pair[0]}_vs_{pair[1]}/{pair[1]}_geneEnrichment/{pair[1]}_geneList.anchor.txt', header = None)\n",
    "    diff_gene_df = pd.concat([diff_gene_df, pd.DataFrame({\n",
    "        'cond_1' : pair[0],\n",
    "        'cond_2' : pair[1],\n",
    "        'cond_1_diff_A_genes' : len(cond1_diff_genes),\n",
    "        'cond_2_diff_A_genes' : len(cond2_diff_genes)}, index = [0])], ignore_index = True).reset_index(drop = True)"
   ]
  },
  {
   "cell_type": "code",
   "execution_count": null,
   "metadata": {},
   "outputs": [],
   "source": [
    "diff_gene_df"
   ]
  },
  {
   "cell_type": "code",
   "execution_count": null,
   "metadata": {},
   "outputs": [],
   "source": [
    "diff_gene_df.to_csv(f'{outDataDir}/Genes_Differential_Comps_Count.txt', sep = '\\t', index = False)"
   ]
  },
  {
   "cell_type": "code",
   "execution_count": null,
   "metadata": {},
   "outputs": [],
   "source": [
    "#Is there concordance/discordance between differential compartment locations across comparisons?\n",
    "#WT vs Top2BKO ATRA differentiation\n",
    "diff_A_comps = {}\n",
    "for pair in comparison_pairs:\n",
    "    diff_A_comps[f'{pair[0]}vs{pair[1]}'] = {}\n",
    "    diff_dir_name = f'DifferentialResult/{pair[0]}vs{pair[1]}_dcHiC'  \n",
    "    diff_A_comps[f'{pair[0]}vs{pair[1]}'][f'{pair[0]}'] = pd.read_csv(f'{diff_dir_name}/geneEnrichment/comparison_{pair[0]}_vs_{pair[1]}/{pair[0]}_geneEnrichment/{pair[0]}_Diff_A_compartments.bedGraph', sep = '\\t', header = None)\n",
    "    diff_A_comps[f'{pair[0]}vs{pair[1]}'][f'{pair[1]}'] = pd.read_csv(f'{diff_dir_name}/geneEnrichment/comparison_{pair[0]}_vs_{pair[1]}/{pair[1]}_geneEnrichment/{pair[1]}_Diff_A_compartments.bedGraph', sep = '\\t', header = None)\n",
    "    diff_A_comps[f'{pair[0]}vs{pair[1]}'][f'{pair[0]}'].columns = ['chrom', 'start', 'end']\n",
    "    diff_A_comps[f'{pair[0]}vs{pair[1]}'][f'{pair[1]}'].columns = ['chrom', 'start', 'end']"
   ]
  },
  {
   "cell_type": "code",
   "execution_count": null,
   "metadata": {},
   "outputs": [],
   "source": [
    "#What is different in the ATRA vs Ctrl comparison between WT and Top2BKO?\n",
    "wt_vs_top2b_diff_Acomps = {}\n",
    "\n",
    "wt_A_ATRA = diff_A_comps['WT_ATRAvsWT_Ctrl']['WT_ATRA']\n",
    "wt_A_Ctrl = diff_A_comps['WT_ATRAvsWT_Ctrl']['WT_Ctrl']\n",
    "top2bko_A_ATRA = diff_A_comps['BKO_ATRAvsBKO_Ctrl']['BKO_ATRA']\n",
    "top2bko_A_Ctrl = diff_A_comps['BKO_ATRAvsBKO_Ctrl']['BKO_Ctrl']\n",
    "\n",
    "olap_ATRA = bf.overlap(wt_A_ATRA, top2bko_A_ATRA, how='outer', suffixes=('_WT','_BKO'))\n",
    "olap_Ctrl = bf.overlap(wt_A_Ctrl, top2bko_A_Ctrl, how='outer', suffixes=('_WT','_BKO'))\n",
    "\n",
    "wt_vs_top2b_diff_Acomps['ATRA_diffA_Both'] = olap_ATRA[\n",
    "    (olap_ATRA['chrom_WT'] == olap_ATRA['chrom_BKO']) &\n",
    "    (olap_ATRA['start_WT'] == olap_ATRA['start_BKO']) &\n",
    "    (olap_ATRA['end_WT'] == olap_ATRA['end_BKO'])\n",
    "]\n",
    "\n",
    "wt_vs_top2b_diff_Acomps['Ctrl_diffA_Both'] = olap_Ctrl[\n",
    "    (olap_Ctrl['chrom_WT'] == olap_Ctrl['chrom_BKO']) &\n",
    "    (olap_Ctrl['start_WT'] == olap_Ctrl['start_BKO']) &\n",
    "    (olap_Ctrl['end_WT'] == olap_Ctrl['end_BKO'])\n",
    "]\n",
    "\n",
    "wt_vs_top2b_diff_Acomps['ATRA_diffA_WT_Only'] = olap_ATRA[\n",
    "    (olap_ATRA['chrom_WT'] != olap_ATRA['chrom_BKO'])\n",
    "][['chrom_WT', 'start_WT', 'end_WT']].dropna()\n",
    "\n",
    "wt_vs_top2b_diff_Acomps['Ctrl_diffA_WT_Only'] = olap_Ctrl[\n",
    "    (olap_Ctrl['chrom_WT'] != olap_Ctrl['chrom_BKO'])\n",
    "][['chrom_WT', 'start_WT', 'end_WT']].dropna()\n",
    "\n",
    "wt_vs_top2b_diff_Acomps['ATRA_diffA_BKO_Only'] = olap_ATRA[\n",
    "    (olap_ATRA['chrom_WT'] != olap_ATRA['chrom_BKO'])\n",
    "][['chrom_BKO', 'start_BKO', 'end_BKO']].dropna()\n",
    "\n",
    "wt_vs_top2b_diff_Acomps['Ctrl_diffA_BKO_Only'] = olap_Ctrl[\n",
    "    (olap_Ctrl['chrom_WT'] != olap_Ctrl['chrom_BKO'])\n",
    "][['chrom_BKO', 'start_BKO', 'end_BKO']].dropna()"
   ]
  },
  {
   "cell_type": "code",
   "execution_count": null,
   "metadata": {},
   "outputs": [],
   "source": [
    "wt_vs_top2b_diff_Acomps"
   ]
  },
  {
   "cell_type": "code",
   "execution_count": null,
   "metadata": {},
   "outputs": [],
   "source": [
    "wt_vs_top2b_diff_Acomps_df = pd.DataFrame()\n",
    "#make into dataframe to save as txt\n",
    "for key in wt_vs_top2b_diff_Acomps.keys():\n",
    "    wt_vs_top2b_diff_Acomps[key]['Category'] = key\n",
    "    wt_vs_top2b_diff_Acomps_df = pd.concat([wt_vs_top2b_diff_Acomps_df, wt_vs_top2b_diff_Acomps[key]], ignore_index = True).reset_index(drop = True)"
   ]
  },
  {
   "cell_type": "code",
   "execution_count": null,
   "metadata": {},
   "outputs": [],
   "source": [
    "wt_vs_top2b_diff_Acomps_df.to_csv(f'{outDataDir}/250kb_Differential_A_Comps_WT_vs_Top2BKO_Ctrl_ATRA.txt', sep = '\\t', index = False)"
   ]
  },
  {
   "cell_type": "code",
   "execution_count": null,
   "metadata": {},
   "outputs": [],
   "source": [
    "#For each pairwise comparison - overlap de genes at 24hrs with genes in differential compartments"
   ]
  },
  {
   "cell_type": "code",
   "execution_count": null,
   "metadata": {},
   "outputs": [],
   "source": [
    "comparison_pairs"
   ]
  },
  {
   "cell_type": "code",
   "execution_count": null,
   "metadata": {},
   "outputs": [],
   "source": [
    "import biomart\n",
    "\n",
    "def get_ensembl_mappings():                                   \n",
    "    # Set up connection to server                                               \n",
    "    server = biomart.BiomartServer('http://useast.ensembl.org/biomart')            \n",
    "    mart = server.datasets['hsapiens_gene_ensembl']                            \n",
    "                                                                                \n",
    "    # List the types of data we want                                            \n",
    "    attributes = ['ensembl_transcript_id', 'hgnc_symbol',\n",
    "                  'ensembl_gene_id', 'ensembl_peptide_id', \n",
    "                  'entrezgene_accession', 'entrezgene_id']\n",
    "                                                                                \n",
    "    # Get the mapping between the attributes                                    \n",
    "    response = mart.search({'attributes': attributes})                          \n",
    "    data = response.raw.data.decode('ascii')                                    \n",
    "                                                                                \n",
    "    ensembl_to_genesymbol = {}                                                  \n",
    "    # Store the data in a dict                                                  \n",
    "    for line in data.splitlines():                                              \n",
    "        line = line.split('\\t')                                                 \n",
    "        # The entries are in the same order as in the `attributes` variable\n",
    "        transcript_id = line[0]                                                 \n",
    "        gene_symbol = line[1]                                                   \n",
    "        ensembl_gene = line[2]                                                  \n",
    "        ensembl_peptide = line[3] \n",
    "        entrezgene_accession = line[4]\n",
    "        entrezgene_id = line[5]\n",
    "                                                                                \n",
    "        # Some of these keys may be an empty string. If you want, you can \n",
    "        # avoid having a '' key in your dict by ensuring the \n",
    "        # transcript/gene/peptide ids have a nonzero length before\n",
    "        # adding them to the dict\n",
    "        ensembl_to_genesymbol[transcript_id] = gene_symbol                      \n",
    "        ensembl_to_genesymbol[ensembl_gene] = gene_symbol                       \n",
    "        ensembl_to_genesymbol[ensembl_peptide] = gene_symbol \n",
    "        ensembl_to_genesymbol[entrezgene_accession] = gene_symbol\n",
    "        ensembl_to_genesymbol[entrezgene_id] = ensembl_gene\n",
    "                                                                                \n",
    "    return ensembl_to_genesymbol"
   ]
  },
  {
   "cell_type": "code",
   "execution_count": null,
   "metadata": {},
   "outputs": [],
   "source": [
    "ensembl_mappings = get_ensembl_mappings()"
   ]
  },
  {
   "cell_type": "code",
   "execution_count": null,
   "metadata": {},
   "outputs": [],
   "source": [
    "#read in the gene lists for each comparison from the differential compartment analysis\n",
    "#ensembl IDs, but missing ENSG and prepended 0s\n",
    "diff_A_gene_lists = {}\n",
    "for pair in comparison_pairs:\n",
    "    diff_A_gene_lists[f'{pair[0]}vs{pair[1]}'] = {}\n",
    "    diff_dir_name = f'DifferentialResult/{pair[0]}vs{pair[1]}_dcHiC'  \n",
    "    diff_A_gene_lists[f'{pair[0]}vs{pair[1]}'][pair[0]] = pd.read_csv(f'{diff_dir_name}/geneEnrichment/comparison_{pair[0]}_vs_{pair[1]}/{pair[0]}_geneEnrichment/{pair[0]}_geneList.anchor.txt', header = None)\n",
    "    diff_A_gene_lists[f'{pair[0]}vs{pair[1]}'][pair[1]] = pd.read_csv(f'{diff_dir_name}/geneEnrichment/comparison_{pair[0]}_vs_{pair[1]}/{pair[1]}_geneEnrichment/{pair[1]}_geneList.anchor.txt', header = None)\n"
   ]
  },
  {
   "cell_type": "code",
   "execution_count": null,
   "metadata": {},
   "outputs": [],
   "source": [
    "#convert to ensembl_geneid to be able to match with degenes\n",
    "diff_A_gene_lists_ensembl = {}\n",
    "for pair in comparison_pairs:\n",
    "    diff_A_gene_lists_ensembl[f'{pair[0]}vs{pair[1]}'] = {}\n",
    "    gene_list1 = list(diff_A_gene_lists[f'{pair[0]}vs{pair[1]}'][pair[0]][0])\n",
    "    ensembl_list1 = []\n",
    "    for gene in gene_list1:\n",
    "        ens = ensembl_mappings.get(f'{gene}')\n",
    "        if ens:\n",
    "            ensembl_list1.append(ens)\n",
    "    diff_A_gene_lists_ensembl[f'{pair[0]}vs{pair[1]}'][pair[0]] = ensembl_list1\n",
    "\n",
    "    gene_list2 = list(diff_A_gene_lists[f'{pair[0]}vs{pair[1]}'][pair[1]][0])\n",
    "    ensembl_list2 = []\n",
    "    for gene in gene_list2:\n",
    "        ens = ensembl_mappings.get(f'{gene}')\n",
    "        if ens:\n",
    "            ensembl_list2.append(ens)\n",
    "    diff_A_gene_lists_ensembl[f'{pair[0]}vs{pair[1]}'][pair[1]] = ensembl_list2\n"
   ]
  },
  {
   "cell_type": "code",
   "execution_count": null,
   "metadata": {},
   "outputs": [],
   "source": [
    "gene_data_dir = '..'\n",
    "deg_genes_24hr = pd.read_csv(f'{gene_data_dir}/SHSY2019_ATRA_24hr_union_table_test_all_log2.csv')"
   ]
  },
  {
   "cell_type": "code",
   "execution_count": null,
   "metadata": {},
   "outputs": [],
   "source": [
    "#split ensembl_gene_id column into just the final numbers\n",
    "deg_genes_24hr"
   ]
  },
  {
   "cell_type": "code",
   "execution_count": null,
   "metadata": {},
   "outputs": [],
   "source": [
    "DEG_Comparisons = {\n",
    "    ('WT_ATRA', 'WT_Ctrl') : 'WT_C_WT_R',\n",
    "    ('BKO_ATRA', 'BKO_Ctrl') : 'BKO_C_BKO_R',\n",
    "    ('BKO_Ctrl', 'WT_Ctrl') : 'WT_C_BKO_C',\n",
    "    ('BKO_ATRA', 'WT_ATRA') : 'WT_R_BKO_R'   \n",
    "}"
   ]
  },
  {
   "cell_type": "code",
   "execution_count": null,
   "metadata": {},
   "outputs": [],
   "source": [
    "deg_lists_24hrs = {}\n",
    "for pair in comparison_pairs:\n",
    "    deg_lists_24hrs[f'{pair[0]}vs{pair[1]}'] = {}\n",
    "    \n",
    "    deg_up = list(deg_genes_24hr[\n",
    "        (deg_genes_24hr[f'{DEG_Comparisons[pair]}_log2FC'] > 1.5) & \n",
    "        (deg_genes_24hr[f'{DEG_Comparisons[pair]}_padj'] < 0.05)\n",
    "    ]['ensembl_geneid'])\n",
    "    deg_lists_24hrs[f'{pair[0]}vs{pair[1]}'][pair[0]] = deg_up\n",
    "    \n",
    "    deg_down = list(deg_genes_24hr[\n",
    "        (deg_genes_24hr[f'{DEG_Comparisons[pair]}_log2FC'] < -1.5) &\n",
    "        (deg_genes_24hr[f'{DEG_Comparisons[pair]}_padj'] < 0.05)\n",
    "    ]['ensembl_geneid'])\n",
    "    deg_lists_24hrs[f'{pair[0]}vs{pair[1]}'][pair[1]] = deg_down\n",
    "        "
   ]
  },
  {
   "cell_type": "code",
   "execution_count": null,
   "metadata": {},
   "outputs": [],
   "source": [
    "#overlap the lists for each comparison\n",
    "deg_vs_dchic_overlap_counts = pd.DataFrame(columns = ['comparison', 'upreg_cond', 'de_gene_count', \n",
    "                                                      'diffAcomp_gene_count', 'both_gene_count'])\n",
    "for pair in comparison_pairs:\n",
    "    deg_vs_dchic_overlap_counts = pd.concat([deg_vs_dchic_overlap_counts, pd.DataFrame({\n",
    "        'comparison' : [f'{pair[0]}vs{pair[1]}', f'{pair[0]}vs{pair[1]}'],\n",
    "        'upreg_cond' : [pair[0], pair[1]],\n",
    "        'de_gene_count' : [len(deg_lists_24hrs[f'{pair[0]}vs{pair[1]}'][pair[0]]), len(deg_lists_24hrs[f'{pair[0]}vs{pair[1]}'][pair[1]])],\n",
    "        'diffAcomp_gene_count' : [len(diff_A_gene_lists_ensembl[f'{pair[0]}vs{pair[1]}'][pair[0]]), len(diff_A_gene_lists_ensembl[f'{pair[0]}vs{pair[1]}'][pair[1]])],\n",
    "        'both_gene_count' : [len(set(diff_A_gene_lists_ensembl[f'{pair[0]}vs{pair[1]}'][pair[0]]) & set(deg_lists_24hrs[f'{pair[0]}vs{pair[1]}'][pair[0]])),\n",
    "                            len(set(diff_A_gene_lists_ensembl[f'{pair[0]}vs{pair[1]}'][pair[1]]) & set(deg_lists_24hrs[f'{pair[0]}vs{pair[1]}'][pair[1]]))]\n",
    "    })], ignore_index = True).reset_index(drop = True)"
   ]
  },
  {
   "cell_type": "code",
   "execution_count": null,
   "metadata": {},
   "outputs": [],
   "source": [
    "deg_vs_dchic_overlap_counts"
   ]
  },
  {
   "cell_type": "code",
   "execution_count": null,
   "metadata": {},
   "outputs": [],
   "source": [
    "#add p value from hypergeometric distribution, using 25000 as estimate of total genes"
   ]
  },
  {
   "cell_type": "code",
   "execution_count": null,
   "metadata": {},
   "outputs": [],
   "source": [
    "#M = total number of genes in genome\n",
    "#n = total number of differentially expressed genes\n",
    "#N = total number of genes overlapping diff compartments\n",
    "#k = number of genes overlapping diff comps that are also differentially expressed\n",
    "\n",
    "pval_hyper = []\n",
    "for pair in comparison_pairs:\n",
    "    df1 = deg_vs_dchic_overlap_counts[\n",
    "        (deg_vs_dchic_overlap_counts['comparison'] == f'{pair[0]}vs{pair[1]}') &\n",
    "        (deg_vs_dchic_overlap_counts['upreg_cond'] == pair[0])]\n",
    "    \n",
    "    pval_hyper.append(\n",
    "        stats.hypergeom(\n",
    "            M = 25000,\n",
    "            n = int(df1['de_gene_count']),\n",
    "            N = int(df1['diffAcomp_gene_count'])).sf(int(df1['both_gene_count'])-1))\n",
    "        \n",
    "    df2 = deg_vs_dchic_overlap_counts[\n",
    "        (deg_vs_dchic_overlap_counts['comparison'] == f'{pair[0]}vs{pair[1]}') &\n",
    "        (deg_vs_dchic_overlap_counts['upreg_cond'] == pair[1])]\n",
    "    \n",
    "    pval_hyper.append(\n",
    "        stats.hypergeom(\n",
    "            M = 25000,\n",
    "            n = int(df2['de_gene_count']),\n",
    "            N = int(df2['diffAcomp_gene_count'])).sf(int(df2['both_gene_count'])-1))\n",
    "        \n",
    "deg_vs_dchic_overlap_counts['pvalue_hyper'] = pval_hyper"
   ]
  },
  {
   "cell_type": "code",
   "execution_count": null,
   "metadata": {},
   "outputs": [],
   "source": [
    "melted = deg_vs_dchic_overlap_counts.melt(id_vars = ['comparison', 'upreg_cond'])"
   ]
  },
  {
   "cell_type": "code",
   "execution_count": null,
   "metadata": {},
   "outputs": [],
   "source": [
    "melted['xaxis'] = melted['comparison'] + ': Up ' + melted['upreg_cond']"
   ]
  },
  {
   "cell_type": "code",
   "execution_count": null,
   "metadata": {},
   "outputs": [],
   "source": [
    "melted = melted[\n",
    "       (melted['variable'] != 'pvalue_hyper')\n",
    "      ]"
   ]
  },
  {
   "cell_type": "code",
   "execution_count": null,
   "metadata": {},
   "outputs": [],
   "source": [
    "sns.barplot(data = melted,\n",
    "            x = 'xaxis', hue = 'variable', y = 'value')\n",
    "plt.title('Overlap')\n",
    "plt.ylabel('Gene Count')\n",
    "plt.xlabel('Comparison')\n",
    "plt.xticks(rotation=45, ha='right')\n",
    "plt.savefig(f'{outDataDir}/figures/degenes_vs_dchic_overlap_barplot.png', dpi = 300, bbox_inches = 'tight')"
   ]
  },
  {
   "cell_type": "code",
   "execution_count": null,
   "metadata": {},
   "outputs": [],
   "source": [
    "melted"
   ]
  },
  {
   "cell_type": "code",
   "execution_count": null,
   "metadata": {},
   "outputs": [],
   "source": [
    "deg_vs_dchic_overlap_counts.to_csv(f'{outDataDir}/220930_250kbeigs_deg24hr_vs_dchic_overlap_counts_phyper.txt', sep = '\\t', index = False)"
   ]
  },
  {
   "cell_type": "code",
   "execution_count": null,
   "metadata": {},
   "outputs": [],
   "source": [
    "deg_vs_dchic_overlap_counts"
   ]
  },
  {
   "cell_type": "code",
   "execution_count": null,
   "metadata": {},
   "outputs": [],
   "source": [
    "#List of interesting genes - concordant changes"
   ]
  },
  {
   "cell_type": "code",
   "execution_count": null,
   "metadata": {},
   "outputs": [],
   "source": [
    "#overlap the lists for each comparison\n",
    "deg_vs_dchic_overlap_genes = {}\n",
    "for pair in comparison_pairs:\n",
    "    deg_vs_dchic_overlap_genes[f'{pair[0]}vs{pair[1]}'] = {} \n",
    "    deg_vs_dchic_overlap_genes[f'{pair[0]}vs{pair[1]}'][f'{pair[0]}_Up_A'] = set(diff_A_gene_lists_ensembl[f'{pair[0]}vs{pair[1]}'][pair[0]]) & set(deg_lists_24hrs[f'{pair[0]}vs{pair[1]}'][pair[0]])\n",
    "    deg_vs_dchic_overlap_genes[f'{pair[0]}vs{pair[1]}'][f'{pair[1]}_Up_A'] = set(diff_A_gene_lists_ensembl[f'{pair[0]}vs{pair[1]}'][pair[1]]) & set(deg_lists_24hrs[f'{pair[0]}vs{pair[1]}'][pair[1]])\n"
   ]
  },
  {
   "cell_type": "code",
   "execution_count": null,
   "metadata": {},
   "outputs": [],
   "source": [
    "wt_vs_top2b_degene_Acomps_df = pd.DataFrame()\n",
    "#make into dataframe to save as txt\n",
    "for key1 in deg_vs_dchic_overlap_genes.keys():\n",
    "    for key2 in deg_vs_dchic_overlap_genes[key1].keys():\n",
    "        df = pd.DataFrame({'Genes' : list(deg_vs_dchic_overlap_genes[key1][key2])})\n",
    "        df['Comparison'] = key1\n",
    "        df['DEG_Up_diffA'] = key2\n",
    "\n",
    "        wt_vs_top2b_degene_Acomps_df = pd.concat([wt_vs_top2b_degene_Acomps_df, df], ignore_index = True).reset_index(drop = True)"
   ]
  },
  {
   "cell_type": "code",
   "execution_count": null,
   "metadata": {},
   "outputs": [],
   "source": [
    "wt_vs_top2b_degene_Acomps_df.to_csv(f'{outDataDir}/data/Differential_Genes_In_Diff_A_Comps_WT_vs_Top2BKO_Ctrl_ATRA.txt', sep = '\\t', index = False)"
   ]
  },
  {
   "cell_type": "code",
   "execution_count": null,
   "metadata": {},
   "outputs": [],
   "source": [
    "wt_vs_top2b_degene_Acomps_df"
   ]
  },
  {
   "cell_type": "code",
   "execution_count": null,
   "metadata": {},
   "outputs": [],
   "source": []
  }
 ],
 "metadata": {
  "kernelspec": {
   "display_name": "Python 3 (ipykernel)",
   "language": "python",
   "name": "python3"
  },
  "language_info": {
   "codemirror_mode": {
    "name": "ipython",
    "version": 3
   },
   "file_extension": ".py",
   "mimetype": "text/x-python",
   "name": "python",
   "nbconvert_exporter": "python",
   "pygments_lexer": "ipython3",
   "version": "3.9.12"
  }
 },
 "nbformat": 4,
 "nbformat_minor": 4
}
