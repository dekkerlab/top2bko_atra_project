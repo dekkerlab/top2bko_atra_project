{
 "cells": [
  {
   "cell_type": "code",
   "execution_count": null,
   "metadata": {},
   "outputs": [],
   "source": [
    "#Import the packages we will use\n",
    "#Utilities\n",
    "import os\n",
    "import re\n",
    "import itertools\n",
    "from itertools import combinations\n",
    "import glob\n",
    "import pickle\n",
    "import argparse\n",
    "\n",
    "#Data Management\n",
    "import numpy as np\n",
    "from numpy import diff\n",
    "import pandas as pd\n",
    "import h5py\n",
    "import scipy\n",
    "from scipy.stats import linregress\n",
    "from scipy import ndimage\n",
    "from functools import partial\n",
    "from scipy.linalg import toeplitz\n",
    "\n",
    "#Plotting\n",
    "%matplotlib inline\n",
    "import matplotlib as mpl\n",
    "import matplotlib.pyplot as plt\n",
    "from matplotlib import gridspec\n",
    "from matplotlib import cm\n",
    "from matplotlib.gridspec import GridSpec\n",
    "from matplotlib.gridspec import GridSpecFromSubplotSpec\n",
    "import matplotlib.colors as colors\n",
    "from matplotlib.colors import ListedColormap\n",
    "import seaborn as sns\n",
    "import upsetplot\n",
    "from upsetplot import UpSet\n",
    "\n",
    "#Genomics\n",
    "import pairtools\n",
    "import cooler\n",
    "import cooltools\n",
    "# Import python package for working with cooler files and tools for analysis\n",
    "import cooler\n",
    "import cooltools.lib.plotting\n",
    "import bioframe\n",
    "from bioframe import overlap\n",
    "import bbi\n",
    "from cooltools import insulation"
   ]
  },
  {
   "cell_type": "code",
   "execution_count": null,
   "metadata": {},
   "outputs": [],
   "source": [
    "#conditions\n",
    "conditions = [\n",
    "    'WT_Ctrl_R1',\n",
    "    'WT_ATRA_R1',\n",
    "    'BKO_Ctrl_R1',\n",
    "    'BKO_ATRA_R1',\n",
    "    'WT_Ctrl_R2',\n",
    "    'WT_ATRA_R2',\n",
    "    'BKO_Ctrl_R2',\n",
    "    'BKO_ATRA_R2',\n",
    "    'WT_Ctrl_R1R2',\n",
    "    'WT_ATRA_R1R2',\n",
    "    'BKO_Ctrl_R1R2',\n",
    "    'BKO_ATRA_R1R2'\n",
    "]\n",
    "\n",
    "long_names = {\n",
    "    'WT_Ctrl_R1' : 'CA-HiC-Dpn-SH-SY5Y-WT-Ctrl-4-51-R1-T1',\n",
    "    'WT_ATRA_R1' : 'CA-HiC-Dpn-SH-SY5Y-WT-ATRA-5days-4-51-R1-T1',\n",
    "    'BKO_Ctrl_R1' : 'CA-HiC-Dpn-SH-SY5Y-BKO98-Ctrl-4-51-R1-T1',\n",
    "    'BKO_ATRA_R1' : 'CA-HiC-Dpn-SH-SY5Y-BKO98-ATRA-5days-4-51-R1-T1',\n",
    "    'WT_Ctrl_R2' : 'CA-HiC-Dpn-SH-SY5Y-WT-Ctrl-4-52-R2-T1',\n",
    "    'WT_ATRA_R2' : 'CA-HiC-Dpn-SH-SY5Y-WT-ATRA-5days-4-52-R2-T1',\n",
    "    'BKO_Ctrl_R2' : 'CA-HiC-Dpn-SH-SY5Y-BKO98-Ctrl-4-52-R2-T1',\n",
    "    'BKO_ATRA_R2' : 'CA-HiC-Dpn-SH-SY5Y-BKO98-ATRA-5days-4-52-R2-T1',\n",
    "    'WT_Ctrl_R1R2' : 'CA-HiC-Dpn-SH-SY5Y-WT-Ctrl-4-51-and-4-52-R1R2',\n",
    "    'WT_ATRA_R1R2' : 'CA-HiC-Dpn-SH-SY5Y-WT-ATRA-5days-4-51-and-4-52-R1R2',\n",
    "    'BKO_Ctrl_R1R2' : 'CA-HiC-Dpn-SH-SY5Y-BKO98-Ctrl-4-51-and-4-52-R1R2',\n",
    "    'BKO_ATRA_R1R2' : 'CA-HiC-Dpn-SH-SY5Y-BKO98-ATRA-5days-4-51-and-4-52-R1R2'\n",
    "}"
   ]
  },
  {
   "cell_type": "code",
   "execution_count": null,
   "metadata": {},
   "outputs": [],
   "source": [
    "#add colors for each sample\n",
    "sampleColors = {\n",
    "    'WT_Ctrl_R1' : '#17BECF',\n",
    "    'WT_ATRA_R1' : '#574D68',\n",
    "    'BKO_Ctrl_R1' : '#D62728',\n",
    "    'BKO_ATRA_R1' : '#C6A15B',\n",
    "    'WT_Ctrl_R2' : '#17BECF',\n",
    "    'WT_ATRA_R2' : '#574D68',\n",
    "    'BKO_Ctrl_R2' : '#D62728',\n",
    "    'BKO_ATRA_R2' : '#C6A15B',\n",
    "    'WT_Ctrl_R1R2' : '#17BECF',\n",
    "    'WT_ATRA_R1R2' : '#574D68',\n",
    "    'BKO_Ctrl_R1R2' : '#D62728',\n",
    "    'BKO_ATRA_R1R2' : '#C6A15B'\n",
    "}\n",
    "\n",
    "sampleLineStyles = {\n",
    "    'WT_Ctrl_R1' : '--',\n",
    "    'WT_ATRA_R1' : '--',\n",
    "    'BKO_Ctrl_R1' : '--',\n",
    "    'BKO_ATRA_R1' : '--',\n",
    "    'WT_Ctrl_R2' : ':',\n",
    "    'WT_ATRA_R2' : ':',\n",
    "    'BKO_Ctrl_R2' : ':',\n",
    "    'BKO_ATRA_R2' : ':',\n",
    "    'WT_Ctrl_R1R2' : '-',\n",
    "    'WT_ATRA_R1R2' : '-',\n",
    "    'BKO_Ctrl_R1R2' : '-',\n",
    "    'BKO_ATRA_R1R2' : '-'\n",
    "}"
   ]
  },
  {
   "cell_type": "code",
   "execution_count": null,
   "metadata": {},
   "outputs": [],
   "source": [
    "SepCtrlConds = [\n",
    "    'WT_Ctrl_R1',\n",
    "    'WT_Ctrl_R1',\n",
    "    'WT_ATRA_R1',\n",
    "    'BKO_Ctrl_R1',\n",
    "    'WT_Ctrl_R2',\n",
    "    'WT_Ctrl_R2',\n",
    "    'WT_ATRA_R2',\n",
    "    'BKO_Ctrl_R2',\n",
    "]\n",
    "\n",
    "SepTreatConds = [\n",
    "    'WT_ATRA_R1',\n",
    "    'BKO_Ctrl_R1',\n",
    "    'BKO_ATRA_R1',\n",
    "    'BKO_ATRA_R1',\n",
    "    'WT_ATRA_R2',\n",
    "    'BKO_Ctrl_R2',\n",
    "    'BKO_ATRA_R2',\n",
    "    'BKO_ATRA_R2',   \n",
    "]\n",
    "\n",
    "ComboCtrlConds = [\n",
    "    'WT_Ctrl_R1R2',\n",
    "    'WT_Ctrl_R1R2',\n",
    "    'WT_ATRA_R1R2',\n",
    "    'BKO_Ctrl_R1R2'\n",
    "]\n",
    "\n",
    "ComboTreatConds = [\n",
    "    'WT_ATRA_R1R2',\n",
    "    'BKO_Ctrl_R1R2',\n",
    "    'BKO_ATRA_R1R2',\n",
    "    'BKO_ATRA_R1R2'  \n",
    "]"
   ]
  },
  {
   "cell_type": "code",
   "execution_count": null,
   "metadata": {},
   "outputs": [],
   "source": [
    "outDataDir = '..'"
   ]
  },
  {
   "cell_type": "code",
   "execution_count": null,
   "metadata": {},
   "outputs": [],
   "source": [
    "#Comparing gene expression changes vs compartment switches"
   ]
  },
  {
   "cell_type": "code",
   "execution_count": null,
   "metadata": {},
   "outputs": [],
   "source": [
    "#read in eigs\n",
    "binsize = 250000\n",
    "eigs = {}\n",
    "for cond in conditions:\n",
    "    eigs[cond] = pd.read_csv(f'{outDataDir}/data/{long_names[cond]}.{binsize//1000}kb.mapq30.byarm.eigs.cis.vecs.txt', sep = '\\t')"
   ]
  },
  {
   "cell_type": "code",
   "execution_count": null,
   "metadata": {},
   "outputs": [],
   "source": [
    "eigs[cond]"
   ]
  },
  {
   "cell_type": "code",
   "execution_count": null,
   "metadata": {},
   "outputs": [],
   "source": [
    "log2fc_eigs = {}\n",
    "for ctrlcond, treatcond in zip(ComboCtrlConds, ComboTreatConds):\n",
    "    log2fc_eigs[f'{treatcond}vs{ctrlcond}'] = np.log2(eigs[treatcond]['E1']) - np.log2(eigs[ctrlcond]['E1'])"
   ]
  },
  {
   "cell_type": "code",
   "execution_count": null,
   "metadata": {},
   "outputs": [],
   "source": [
    "sns.scatterplot(eigs['WT_Ctrl_R1R2']['E1'], eigs['WT_ATRA_R1R2']['E1'], alpha = 0.2)\n",
    "plt.xlabel('WT Ctrl')\n",
    "plt.ylabel('WT ATRA')"
   ]
  },
  {
   "cell_type": "code",
   "execution_count": null,
   "metadata": {},
   "outputs": [],
   "source": [
    "sns.scatterplot(np.log2(eigs['WT_ATRA_R1R2']['E1']) - np.log2(eigs['WT_Ctrl_R1R2']['E1']), \n",
    "    np.log2(eigs['BKO_ATRA_R1R2']['E1']) - np.log2(eigs['BKO_Ctrl_R1R2']['E1']), alpha = 0.2)\n",
    "plt.xlabel('WT Log2FC E1')\n",
    "plt.ylabel('BKO Log2FC E1')"
   ]
  },
  {
   "cell_type": "code",
   "execution_count": null,
   "metadata": {},
   "outputs": [],
   "source": [
    "gene_data_dir = '..'\n",
    "deg_genes_24hr = pd.read_csv(f'{gene_data_dir}/SHSY2019_ATRA_24hr_union_table_test_all_log2.csv')"
   ]
  },
  {
   "cell_type": "code",
   "execution_count": null,
   "metadata": {},
   "outputs": [],
   "source": [
    "deg_genes_24hr"
   ]
  },
  {
   "cell_type": "code",
   "execution_count": null,
   "metadata": {},
   "outputs": [],
   "source": [
    "deg_genes_24hr[deg_genes_24hr['symbol'] == 'CRABP2']"
   ]
  },
  {
   "cell_type": "code",
   "execution_count": null,
   "metadata": {},
   "outputs": [],
   "source": [
    "DEG_Comparisons = [\n",
    "    'WT_C_WT_R_log2FC',\n",
    "    'BKO_C_BKO_R_log2FC',\n",
    "    'WT_C_BKO_C_log2FC',\n",
    "    'WT_R_BKO_R_log2FC']"
   ]
  },
  {
   "cell_type": "code",
   "execution_count": null,
   "metadata": {},
   "outputs": [],
   "source": [
    "#New approach\n",
    "#Separate out genes that are up or down regulated in WT differentiation, but not in Top2B KO differentiation, or are\n",
    "#changed the same in both - at 24 hr timepoint\n",
    "#Plot compartment eig1 values as boxplots for each of these classes of genes in each 5 day sample"
   ]
  },
  {
   "cell_type": "code",
   "execution_count": null,
   "metadata": {},
   "outputs": [],
   "source": [
    "#Using FC cutoff of 1.5, pvalue cutoff of 0.05\n",
    "\n",
    "WTDiff_UpReg = deg_genes_24hr[\n",
    "    (deg_genes_24hr['WT_C_WT_R_log2FC'] > 1.5) &\n",
    "    (deg_genes_24hr['WT_C_WT_R_padj'] < 0.05)\n",
    "]\n",
    "\n",
    "WTDiff_DownReg = deg_genes_24hr[\n",
    "    (deg_genes_24hr['WT_C_WT_R_log2FC'] < -1.5) &\n",
    "    (deg_genes_24hr['WT_C_WT_R_padj'] < 0.05)\n",
    "]\n",
    "\n",
    "Top2BKODiff_UpReg = deg_genes_24hr[\n",
    "    (deg_genes_24hr['BKO_C_BKO_R_log2FC'] > 1.5) &\n",
    "    (deg_genes_24hr['BKO_C_BKO_R_padj'] < 0.05)\n",
    "]\n",
    "\n",
    "Top2BKODiff_DownReg = deg_genes_24hr[\n",
    "    (deg_genes_24hr['BKO_C_BKO_R_log2FC'] < -1.5) &\n",
    "    (deg_genes_24hr['BKO_C_BKO_R_padj'] < 0.05)\n",
    "]\n"
   ]
  },
  {
   "cell_type": "code",
   "execution_count": null,
   "metadata": {},
   "outputs": [],
   "source": [
    "WTnotTop2B_UpReg = WTDiff_UpReg[~WTDiff_UpReg['ensembl_geneid'].isin(Top2BKODiff_UpReg['ensembl_geneid'])]\n",
    "WTnotTop2B_DownReg = WTDiff_DownReg[~WTDiff_DownReg['ensembl_geneid'].isin(Top2BKODiff_DownReg['ensembl_geneid'])]\n",
    "Top2BnotWT_UpReg = Top2BKODiff_UpReg[~Top2BKODiff_UpReg['ensembl_geneid'].isin(WTDiff_UpReg['ensembl_geneid'])]\n",
    "Top2BnotWT_DownReg = Top2BKODiff_DownReg[~Top2BKODiff_DownReg['ensembl_geneid'].isin(WTDiff_DownReg['ensembl_geneid'])]\n",
    "Both_UpReg = WTDiff_UpReg[WTDiff_UpReg['ensembl_geneid'].isin(Top2BKODiff_UpReg['ensembl_geneid'])]\n",
    "Both_DownReg = WTDiff_DownReg[WTDiff_DownReg['ensembl_geneid'].isin(Top2BKODiff_DownReg['ensembl_geneid'])]"
   ]
  },
  {
   "cell_type": "code",
   "execution_count": null,
   "metadata": {},
   "outputs": [],
   "source": [
    "#Overlap each gene list with eigens for all samples at gene locations"
   ]
  },
  {
   "cell_type": "code",
   "execution_count": null,
   "metadata": {},
   "outputs": [],
   "source": [
    "Gene_Lists = {\n",
    "    'WTOnly_Up' : WTnotTop2B_UpReg,\n",
    "    'WTOnly_Down' : WTnotTop2B_DownReg,\n",
    "    'BKOOnly_Up' : Top2BnotWT_UpReg,\n",
    "    'BKOOnly_Down' : Top2BnotWT_DownReg,\n",
    "    'Both_Up' : Both_UpReg,\n",
    "    'Both_Down' : Both_DownReg\n",
    "}\n",
    "\n",
    "Gene_List_Names = [\n",
    "    'WTOnly_Up',\n",
    "    'WTOnly_Down',\n",
    "    'BKOOnly_Up',\n",
    "    'BKOOnly_Down',\n",
    "    'Both_Up',\n",
    "    'Both_Down'\n",
    "]"
   ]
  },
  {
   "cell_type": "code",
   "execution_count": null,
   "metadata": {},
   "outputs": [],
   "source": [
    "#need to fix chromosome column\n",
    "for cond in Gene_List_Names:\n",
    "    Gene_Lists[cond].loc[:, 'chrom'] = 'chr' + Gene_Lists[cond].loc[:, 'chr'].astype(str)"
   ]
  },
  {
   "cell_type": "code",
   "execution_count": null,
   "metadata": {},
   "outputs": [],
   "source": [
    "gene_bioframes = {}\n",
    "\n",
    "#make bioframes\n",
    "for cond in Gene_List_Names:\n",
    "    gene_bioframes[cond] = bioframe.sanitize_bedframe(Gene_Lists[cond][[\n",
    "        'chrom', 'start', 'end', 'strand', 'ensembl_geneid', 'symbol', 'Category', \n",
    "        'WT_C_WT_R_log2FC', 'WT_C_WT_R_padj', 'BKO_C_BKO_R_log2FC', 'BKO_C_BKO_R_padj', \n",
    "        'WT_C_BKO_C_log2FC', 'WT_C_BKO_C_padj', 'WT_R_BKO_R_log2FC', 'WT_R_BKO_R_padj', 'description']])"
   ]
  },
  {
   "cell_type": "code",
   "execution_count": null,
   "metadata": {},
   "outputs": [],
   "source": [
    "eigs_bf = {}\n",
    "for cond in conditions:\n",
    "    eigs_bf[cond] = bioframe.sanitize_bedframe(eigs[cond][['chrom', 'start', 'end', 'E1']])"
   ]
  },
  {
   "cell_type": "code",
   "execution_count": null,
   "metadata": {},
   "outputs": [],
   "source": [
    "#overlap eigs with gene_bioframes\n",
    "#Some genes are across multiple bins, so final dataframe end up with more entries than at start\n",
    "#Should group and take mean eig1 for genes with multiple eig1 bins\n",
    "\n",
    "olap_bf = {}\n",
    "\n",
    "for genes in Gene_List_Names:\n",
    "    olap_bf[genes] = {}\n",
    "    for cond in conditions:\n",
    "        olap_bf[genes][cond] = bioframe.overlap(\n",
    "            gene_bioframes[genes], \n",
    "            eigs_bf[cond], \n",
    "            how = 'inner',\n",
    "            suffixes = ('', f'_{cond}')).groupby([\n",
    "    'chrom', 'start', 'end', 'strand', 'ensembl_geneid', 'symbol', 'Category', \n",
    "    'WT_C_WT_R_log2FC', 'BKO_C_BKO_R_log2FC', 'WT_C_BKO_C_log2FC', 'WT_R_BKO_R_log2FC']).mean()[f'E1_{cond}']"
   ]
  },
  {
   "cell_type": "code",
   "execution_count": null,
   "metadata": {},
   "outputs": [],
   "source": [
    "olap_bf_all_degenes = {}\n",
    "for cond in conditions:\n",
    "    olap_bf_all_degenes[cond] = pd.DataFrame()\n",
    "    for genes in Gene_List_Names:\n",
    "        olap_bf_all_degenes[cond] = pd.concat([olap_bf_all_degenes[cond], olap_bf[genes][cond].reset_index()], ignore_index = True).reset_index(drop = True) "
   ]
  },
  {
   "cell_type": "code",
   "execution_count": null,
   "metadata": {},
   "outputs": [],
   "source": [
    "olap_bf_all_degenes['BKO_Ctrl_R1R2']"
   ]
  },
  {
   "cell_type": "code",
   "execution_count": null,
   "metadata": {},
   "outputs": [],
   "source": [
    "sns.scatterplot(np.log2(olap_bf_all_degenes['BKO_Ctrl_R1R2']['E1_BKO_Ctrl_R1R2']) - \n",
    "                np.log2(olap_bf_all_degenes['BKO_ATRA_R1R2']['E1_BKO_ATRA_R1R2']), \n",
    "                np.log2(olap_bf_all_degenes['BKO_Ctrl_R1R2']['BKO_C_BKO_R_log2FC'])\n",
    "               )"
   ]
  },
  {
   "cell_type": "code",
   "execution_count": null,
   "metadata": {},
   "outputs": [],
   "source": [
    "#Now plot! - need to reformat first"
   ]
  },
  {
   "cell_type": "code",
   "execution_count": null,
   "metadata": {},
   "outputs": [],
   "source": [
    "boxplot_df = pd.DataFrame(columns = ['GeneList', 'Condition', 'E1'])\n",
    "for genes in Gene_List_Names:\n",
    "    for cond in conditions[8:12]:\n",
    "        bf = pd.DataFrame(olap_bf[genes][cond].reset_index(drop = True))\n",
    "        bf.columns = ['E1']\n",
    "        bf['GeneList'] = genes\n",
    "        bf['Condition'] = cond\n",
    "        boxplot_df = boxplot_df.append(bf[['GeneList', 'Condition', 'E1']])\n",
    "        "
   ]
  },
  {
   "cell_type": "code",
   "execution_count": null,
   "metadata": {},
   "outputs": [],
   "source": [
    "sns.set_style(\"ticks\")\n",
    "sns.set_context(\"paper\")\n",
    "cmap_bar = sns.color_palette(['#a6cee3', '#1f78b4', '#b2df8a', '#33a02c'])\n",
    "gs = GridSpec(nrows= 1, ncols=1, wspace = 0.6, hspace = 0.6)\n",
    "\n",
    "plt.figure(figsize=(10, 4))\n",
    "\n",
    "ax = plt.subplot(gs[0])\n",
    "sns.boxplot(x = boxplot_df['GeneList'], y = boxplot_df['E1'], hue = boxplot_df['Condition'], ax = ax, notch = True, \n",
    "           palette = cmap_bar, showfliers = False)\n",
    "\n",
    "plt.legend(bbox_to_anchor=(1.05, 1), loc='upper left', borderaxespad=0.1, frameon = False)\n",
    "plt.title('E1 by DE Gene Type')\n",
    "plt.xlabel('DE Gene List')\n",
    "plt.savefig(f'../../figures/E1_BoxPlot_ByGeneList_AllSamples.png', dpi = 300, bbox_inches = 'tight')"
   ]
  },
  {
   "cell_type": "code",
   "execution_count": null,
   "metadata": {},
   "outputs": [],
   "source": [
    "#difference not foldchange since have negative numbers\n",
    "boxplot_diff_df = pd.DataFrame(columns = ['GeneList', 'Condition', 'E1_Diff'])\n",
    "for genes in Gene_List_Names:\n",
    "    for (ctrlcond, treatcond) in zip(['WT_Ctrl_R1R2', 'BKO_Ctrl_R1R2'], ['WT_ATRA_R1R2', 'BKO_ATRA_R1R2']):\n",
    "        bfctrl = pd.DataFrame(olap_bf[genes][ctrlcond].reset_index(drop = True))\n",
    "        \n",
    "        bfctrl.columns = ['E1']\n",
    "        bfctrl['GeneList'] = genes\n",
    "        bfctrl['Condition'] = f'{treatcond}vs{ctrlcond}'\n",
    "        \n",
    "        bftreat = pd.DataFrame(olap_bf[genes][treatcond].reset_index(drop = True))\n",
    "        bftreat.columns = ['E1'] \n",
    "        \n",
    "        bfctrl['E1_Diff'] = bftreat['E1'] - bfctrl['E1']\n",
    "        \n",
    "        boxplot_diff_df = boxplot_diff_df.append(bfctrl[['GeneList', 'Condition', 'E1_Diff']])\n",
    "        "
   ]
  },
  {
   "cell_type": "code",
   "execution_count": null,
   "metadata": {},
   "outputs": [],
   "source": [
    "pd.DataFrame(olap_bf[genes][ctrlcond].reset_index())"
   ]
  },
  {
   "cell_type": "code",
   "execution_count": null,
   "metadata": {},
   "outputs": [],
   "source": [
    "sns.set_style(\"ticks\")\n",
    "sns.set_context(\"paper\")\n",
    "cmap_bar = sns.color_palette(['#a6cee3', '#b2df8a'])\n",
    "gs = GridSpec(nrows= 1, ncols=1, wspace = 0.6, hspace = 0.6)\n",
    "plt.figure(figsize=(7, 6))\n",
    "\n",
    "ax = plt.subplot(gs[0])\n",
    "sns.boxplot(x = boxplot_diff_df['GeneList'], y = boxplot_diff_df['E1_Diff'], hue = boxplot_diff_df['Condition'],\n",
    "           palette = cmap_bar, ax = ax, notch = True, showfliers = False)\n",
    "plt.legend(bbox_to_anchor=(1.05, 1), loc='upper left', borderaxespad=0.1, frameon = False)\n",
    "plt.title('E1 Difference By Gene Expression Change (24hrs)')\n",
    "plt.ylabel('ATRA - WT')\n",
    "plt.xlabel('Gene List')"
   ]
  },
  {
   "cell_type": "code",
   "execution_count": null,
   "metadata": {},
   "outputs": [],
   "source": [
    "#What about splitting based on compartment type in WT control?\n",
    "\n",
    "#WT genes that are in B comp to start and go up in expression\n",
    "#WT genes that are in A comp to start and go up in expression\n",
    "#WT genes that are in B comp to start and go down in expression\n",
    "#WT genes that are in A comp to start and go down in expression"
   ]
  },
  {
   "cell_type": "code",
   "execution_count": null,
   "metadata": {},
   "outputs": [],
   "source": [
    "bf"
   ]
  },
  {
   "cell_type": "code",
   "execution_count": null,
   "metadata": {},
   "outputs": [],
   "source": [
    "#A comp comparisons\n",
    "\n",
    "boxplot_df_A = pd.DataFrame(columns = ['GeneList', 'Condition', 'E1'])\n",
    "for genes in Gene_List_Names:\n",
    "    for cond in conditions[8:12]:\n",
    "\n",
    "        SelectGenes = olap_bf[genes]['WT_Ctrl_R1R2'].reset_index()\n",
    "        SelectGenes = SelectGenes[SelectGenes['E1_WT_Ctrl_R1R2'] > 0]\n",
    "        \n",
    "        bf = pd.DataFrame(olap_bf[genes][cond].reset_index())[['chrom', 'start', 'end', 'strand', 'ensembl_geneid', 'symbol', 'Category', f'E1_{cond}']]\n",
    "        bf.columns = ['chrom', 'start', 'end', 'strand', 'ensembl_geneid', 'symbol', 'Category', 'E1']\n",
    "        bf['GeneList'] = genes\n",
    "        bf['Condition'] = cond\n",
    "        bf = bf[bf['ensembl_geneid'].isin(SelectGenes['ensembl_geneid'])]\n",
    "        boxplot_df_A = boxplot_df_A.append(bf[['GeneList', 'Condition', 'E1']]).reset_index(drop = True)\n",
    "        "
   ]
  },
  {
   "cell_type": "code",
   "execution_count": null,
   "metadata": {},
   "outputs": [],
   "source": [
    "boxplot_df_A"
   ]
  },
  {
   "cell_type": "code",
   "execution_count": null,
   "metadata": {},
   "outputs": [],
   "source": [
    "plt.figure(figsize=(8, 8))\n",
    "sns.boxplot(x = boxplot_df_A['GeneList'], y = boxplot_df_A['E1'], hue = boxplot_df_A['Condition'], notch = True)\n",
    "plt.legend(bbox_to_anchor=(1.05, 1), loc='upper left', borderaxespad=0.1)\n",
    "plt.title('WT Ctrl A compartment genes')"
   ]
  },
  {
   "cell_type": "code",
   "execution_count": null,
   "metadata": {},
   "outputs": [],
   "source": [
    "#B comp comparisons\n",
    "\n",
    "boxplot_df_B = pd.DataFrame(columns = ['GeneList', 'Condition', 'E1'])\n",
    "for genes in Gene_List_Names:\n",
    "    for cond in conditions[8:12]:\n",
    "\n",
    "        SelectGenes = olap_bf[genes]['WT_Ctrl_R1R2'].reset_index()\n",
    "        SelectGenes = SelectGenes[SelectGenes['E1_WT_Ctrl_R1R2'] < 0]\n",
    "        \n",
    "        bf = pd.DataFrame(olap_bf[genes][cond].reset_index())[['chrom', 'start', 'end', 'strand', 'ensembl_geneid', 'symbol', 'Category', f'E1_{cond}']]\n",
    "        bf.columns = ['chrom', 'start', 'end', 'starnd', 'ensembl_geneid', 'symbol', 'Category', 'E1']\n",
    "        bf['GeneList'] = genes\n",
    "        bf['Condition'] = cond\n",
    "        bf = bf[bf['ensembl_geneid'].isin(SelectGenes['ensembl_geneid'])]\n",
    "        boxplot_df_B = boxplot_df_B.append(bf[['GeneList', 'Condition', 'E1']]).reset_index(drop = True)\n",
    "        "
   ]
  },
  {
   "cell_type": "code",
   "execution_count": null,
   "metadata": {},
   "outputs": [],
   "source": [
    "boxplot_df_B"
   ]
  },
  {
   "cell_type": "code",
   "execution_count": null,
   "metadata": {},
   "outputs": [],
   "source": [
    "plt.figure(figsize=(8, 8))\n",
    "sns.boxplot(x = boxplot_df_B['GeneList'], y = boxplot_df_B['E1'], hue = boxplot_df_B['Condition'], notch = True, showfliers = False)\n",
    "plt.legend(bbox_to_anchor=(1.05, 1), loc='upper left', borderaxespad=0.1)\n",
    "plt.title('WT Ctrl B compartment genes')"
   ]
  },
  {
   "cell_type": "code",
   "execution_count": null,
   "metadata": {},
   "outputs": [],
   "source": [
    "#Correlated change\n",
    "\n",
    "boxplot_df_corr = pd.DataFrame(columns = ['GeneList', 'Condition', 'E1_Diff'])\n",
    "for genes in Gene_List_Names[0:2]:\n",
    "    SelectGenesCtrl = olap_bf[genes]['WT_Ctrl_R1R2'].reset_index()\n",
    "    SelectGenesATRA = olap_bf[genes]['WT_ATRA_R1R2'].reset_index()\n",
    "        \n",
    "    SelectGenesCtrl['E1_Diff'] = SelectGenesATRA['E1_WT_ATRA_R1R2'] - SelectGenesCtrl['E1_WT_Ctrl_R1R2']\n",
    "    \n",
    "    SelectGenesCtrl['CorrDirection'] = SelectGenesCtrl['E1_Diff'] * SelectGenesCtrl['WT_C_WT_R_log2FC']\n",
    "       \n",
    "    SelectGenesCtrl = SelectGenesCtrl[SelectGenesCtrl['CorrDirection'] > 0]  #change in same direction\n",
    "        \n",
    "    for (geno, ctrlcond, treatcond) in zip(['WT', 'BKO'], ['WT_Ctrl_R1R2', 'BKO_Ctrl_R1R2'], ['WT_ATRA_R1R2', 'BKO_ATRA_R1R2']):\n",
    "\n",
    "        bfctrl = pd.DataFrame(olap_bf[genes][ctrlcond].reset_index())[['chrom', 'start', 'end', 'ensembl_geneid', 'symbol', f'E1_{ctrlcond}']]\n",
    "        bfctrl.columns = ['chrom', 'start', 'end', 'ensembl_geneid', 'symbol', 'E1']\n",
    "        bfctrl['GeneList'] = genes\n",
    "        bfctrl['Condition'] = f'{geno}'\n",
    "        \n",
    "        bftreat = pd.DataFrame(olap_bf[genes][treatcond].reset_index())[['ensembl_geneid', f'E1_{treatcond}']]\n",
    "        bftreat.columns = ['ensembl_geneid', 'E1']\n",
    "        \n",
    "        bfctrl['E1_Diff'] = bftreat['E1'] - bfctrl['E1']\n",
    "\n",
    "        bfctrl = bfctrl[bfctrl['ensembl_geneid'].isin(SelectGenesCtrl['ensembl_geneid'])]\n",
    "        \n",
    "        boxplot_df_corr = boxplot_df_corr.append(bfctrl[['chrom', 'start', 'end', 'ensembl_geneid', 'symbol', 'GeneList', 'Condition', 'E1_Diff']]).reset_index(drop = True)\n",
    "        "
   ]
  },
  {
   "cell_type": "code",
   "execution_count": null,
   "metadata": {},
   "outputs": [],
   "source": [
    "plt.figure(figsize=(8, 8))\n",
    "sns.boxplot(x = boxplot_df_corr['GeneList'], y = boxplot_df_corr['E1_Diff'], hue = boxplot_df_corr['Condition'],\n",
    "           notch = True)\n",
    "plt.legend(bbox_to_anchor=(1.05, 1), loc='upper left', borderaxespad=0.1)\n",
    "plt.title('WT CtrlvsATRA Correlated Expression and Compartment Change Genes')\n",
    "plt.savefig(f'{outDataDir}/figures/E1Diff_WTCtrlvsATRACorrDEGandE1_100kbEigs.png', dpi = 300, bbox_inches = 'tight')"
   ]
  },
  {
   "cell_type": "code",
   "execution_count": null,
   "metadata": {},
   "outputs": [],
   "source": [
    "sns.set_style(\"ticks\")\n",
    "sns.set_context(\"paper\")\n",
    "cmap_bar = sns.color_palette(['#a6cee3', '#b2df8a'])\n",
    "gs = GridSpec(nrows= 1, ncols=1, wspace = 0.6, hspace = 0.6)\n",
    "plt.figure(figsize=(4, 4))\n",
    "\n",
    "ax = plt.subplot(gs[0])\n",
    "cmap_bar = sns.color_palette(['#a6cee3', '#b2df8a'])\n",
    "\n",
    "sns.boxplot(x = boxplot_df_corr['GeneList'], y = boxplot_df_corr['E1_Diff'], hue = boxplot_df_corr['Condition'],\n",
    "           notch = True, showfliers = False, palette = cmap_bar, ax = ax)\n",
    "plt.legend(bbox_to_anchor=(1.05, 1), loc='upper left', borderaxespad=0.1, frameon = False)\n",
    "plt.ylabel('ATRA-Ctrl E1')\n",
    "plt.xlabel('DE Gene Category')\n",
    "plt.title(f'WT Ctrl vs ATRA Correlated Expression \\nand Compartment Change Genes')\n",
    "plt.savefig(f'{outDataDir}/figures/E1Diff_WTCtrlvsATRACorrDEGandE1_nooutliers_250kbEigs.png', dpi = 300, bbox_inches = 'tight')"
   ]
  },
  {
   "cell_type": "code",
   "execution_count": null,
   "metadata": {},
   "outputs": [],
   "source": [
    "#Overall there is less change in E1 in the Top2BKO condition\n",
    "#WT Only Up category is regions with more of a change in E1 in WT than Top2BKO, when\n",
    "#I only consider regions with correlated changes in gene expression and compartment eigen in WT."
   ]
  },
  {
   "cell_type": "code",
   "execution_count": null,
   "metadata": {},
   "outputs": [],
   "source": [
    "boxplot_df_corr[(boxplot_df_corr['GeneList'] == 'WTOnly_Up') &\n",
    "                (boxplot_df_corr['Condition'] == 'BKO')\n",
    "               ].sort_values('E1_Diff').to_csv(f'{outDataDir}/data/WTOnlyUpDEG_CorrWTE1_BKOATRAvsBKOCtrlE1_250kbE1.txt', \n",
    "                                            sep = '\\t', index = False)"
   ]
  },
  {
   "cell_type": "code",
   "execution_count": null,
   "metadata": {},
   "outputs": [],
   "source": [
    "boxplot_df_corr[(boxplot_df_corr['GeneList'] == 'WTOnly_Up') &\n",
    "                (boxplot_df_corr['Condition'] == 'BKO')\n",
    "               ].sort_values('E1_Diff')"
   ]
  },
  {
   "cell_type": "code",
   "execution_count": null,
   "metadata": {},
   "outputs": [],
   "source": [
    "boxplot_df_corr[(boxplot_df_corr['GeneList'] == 'WTOnly_Up') &\n",
    "                (boxplot_df_corr['Condition'] == 'WT')\n",
    "               ].sort_values('E1_Diff')"
   ]
  },
  {
   "cell_type": "code",
   "execution_count": null,
   "metadata": {},
   "outputs": [],
   "source": [
    "boxplot_df_corr.to_csv(f'{outDataDir}/data/CorrelatedDEGWT_GeneList_250kbE1.txt', \n",
    "                                            sep = '\\t', index = False)"
   ]
  },
  {
   "cell_type": "code",
   "execution_count": null,
   "metadata": {},
   "outputs": [],
   "source": [
    "#Plot diff of eigens - ATRA vs Control for each genotype - at all bins"
   ]
  },
  {
   "cell_type": "code",
   "execution_count": null,
   "metadata": {},
   "outputs": [],
   "source": [
    "eigs_diff = {}\n",
    "for (cond1, cond2) in zip(['WT_Ctrl_R1R2', 'BKO_Ctrl_R1R2'], ['WT_ATRA_R1R2', 'BKO_ATRA_R1R2']):\n",
    "    eigs_diff[f'{cond2}-{cond1}'] = eigs[cond2]['E1']-eigs[cond1]['E1']"
   ]
  },
  {
   "cell_type": "code",
   "execution_count": null,
   "metadata": {},
   "outputs": [],
   "source": [
    "eigs_diff"
   ]
  },
  {
   "cell_type": "code",
   "execution_count": null,
   "metadata": {},
   "outputs": [],
   "source": [
    "x = eigs_diff['WT_ATRA_R1R2-WT_Ctrl_R1R2']\n",
    "y = eigs_diff['BKO_ATRA_R1R2-BKO_Ctrl_R1R2']\n",
    "\n",
    "sns.regplot(x, y, ci=None, scatter_kws={\"s\": 0.5})\n",
    "\n",
    "plt.xlabel('WT_ATRA_R1R2-WT_Ctrl_R1R2')\n",
    "plt.ylabel('BKO_ATRA_R1R2-BKO_Ctrl_R1R2')\n",
    "\n",
    "plt.ylim(-2, 2)\n",
    "plt.xlim(-2, 2)\n",
    "\n",
    "#Overall positive correlation. So what is changed in WT is also changed in Top2BKO, in similar direction."
   ]
  },
  {
   "cell_type": "code",
   "execution_count": null,
   "metadata": {},
   "outputs": [],
   "source": [
    "Gene_List_Names"
   ]
  },
  {
   "cell_type": "code",
   "execution_count": null,
   "metadata": {},
   "outputs": [],
   "source": [
    "#Correlated change - in top2BKO\n",
    "\n",
    "boxplot_df_corr_BKO = pd.DataFrame(columns = ['GeneList', 'Condition', 'E1_Diff'])\n",
    "for genes in Gene_List_Names[2:4]:\n",
    "    SelectGenesCtrl = olap_bf[genes]['BKO_Ctrl_R1R2'].reset_index()\n",
    "    SelectGenesATRA = olap_bf[genes]['BKO_ATRA_R1R2'].reset_index()\n",
    "        \n",
    "    SelectGenesCtrl['E1_Diff'] = SelectGenesATRA['E1_BKO_ATRA_R1R2'] - SelectGenesCtrl['E1_BKO_Ctrl_R1R2']\n",
    "    \n",
    "    SelectGenesCtrl['CorrDirection'] = SelectGenesCtrl['E1_Diff'] * SelectGenesCtrl['BKO_C_BKO_R_log2FC']\n",
    "       \n",
    "    SelectGenesCtrl = SelectGenesCtrl[SelectGenesCtrl['CorrDirection'] > 0]  #change in same direction\n",
    "        \n",
    "    for (geno, ctrlcond, treatcond) in zip(['WT', 'BKO'], ['WT_Ctrl_R1R2', 'BKO_Ctrl_R1R2'], ['WT_ATRA_R1R2', 'BKO_ATRA_R1R2']):\n",
    "\n",
    "        bfctrl = pd.DataFrame(olap_bf[genes][ctrlcond].reset_index())[['chrom', 'start', 'end', 'ensembl_geneid', \n",
    "                                                                       'symbol', f'E1_{ctrlcond}']]\n",
    "        bfctrl.columns = ['chrom', 'start', 'end', 'ensembl_geneid', 'symbol', 'E1']\n",
    "        bfctrl['GeneList'] = genes\n",
    "        bfctrl['Condition'] = f'{geno}'\n",
    "        \n",
    "        bftreat = pd.DataFrame(olap_bf[genes][treatcond].reset_index())[['ensembl_geneid', f'E1_{treatcond}']]\n",
    "        bftreat.columns = ['ensembl_geneid', 'E1']\n",
    "        \n",
    "        bfctrl['E1_Diff'] = bftreat['E1'] - bfctrl['E1']\n",
    "\n",
    "        bfctrl = bfctrl[bfctrl['ensembl_geneid'].isin(SelectGenesCtrl['ensembl_geneid'])]\n",
    "        \n",
    "        boxplot_df_corr_BKO = boxplot_df_corr_BKO.append(bfctrl[['chrom', 'start', 'end', 'ensembl_geneid', 'symbol', 'GeneList', 'Condition', 'E1_Diff']]).reset_index(drop = True)\n",
    "        "
   ]
  },
  {
   "cell_type": "code",
   "execution_count": null,
   "metadata": {},
   "outputs": [],
   "source": [
    "plt.figure(figsize=(8, 8))\n",
    "sns.boxplot(x = boxplot_df_corr_BKO['GeneList'], y = boxplot_df_corr_BKO['E1_Diff'], hue = boxplot_df_corr_BKO['Condition'],\n",
    "           notch = True)\n",
    "plt.legend(bbox_to_anchor=(1.05, 1), loc='upper left', borderaxespad=0.1)\n",
    "plt.title('WT CtrlvsATRA Correlated Expression in BKO and Compartment Change Genes')\n",
    "plt.savefig(f'{outDataDir}/figures/E1Diff_WTCtrlvsATRACorrDEGandE1inBKO_250kbEigs.png', dpi = 300, bbox_inches = 'tight')"
   ]
  },
  {
   "cell_type": "code",
   "execution_count": null,
   "metadata": {},
   "outputs": [],
   "source": [
    "sns.set_style(\"ticks\")\n",
    "sns.set_context(\"paper\")\n",
    "cmap_bar = sns.color_palette(['#a6cee3', '#b2df8a'])\n",
    "gs = GridSpec(nrows= 1, ncols=1, wspace = 0.6, hspace = 0.6)\n",
    "plt.figure(figsize=(4, 4))\n",
    "\n",
    "ax = plt.subplot(gs[0])\n",
    "cmap_bar = sns.color_palette(['#a6cee3', '#b2df8a'])\n",
    "\n",
    "sns.boxplot(x = boxplot_df_corr_BKO['GeneList'], y = boxplot_df_corr_BKO['E1_Diff'], hue = boxplot_df_corr_BKO['Condition'],\n",
    "           notch = True, showfliers = False, palette = cmap_bar, ax = ax)\n",
    "plt.legend(bbox_to_anchor=(1.05, 1), loc='upper left', borderaxespad=0.1, frameon = False)\n",
    "plt.ylabel('ATRA-Ctrl E1')\n",
    "plt.xlabel('DE Gene Category')\n",
    "plt.title(f'BKO Ctrl vs ATRA Correlated Expression \\nand Compartment Change Genes')\n",
    "plt.savefig(f'{outDataDir}/figures/E1Diff_BKOCtrlvsATRACorrDEGandE1_nooutliers_250kbEigs.png', dpi = 300, bbox_inches = 'tight')"
   ]
  },
  {
   "cell_type": "code",
   "execution_count": null,
   "metadata": {},
   "outputs": [],
   "source": [
    "#Overall there is less change in E1 in the Top2BKO condition - does this make sense? Not changing gene expression\n",
    "#or compartments as much in response to ATRA?\n",
    "#WT Only Up category - might be interesting? Seems to be regions with more of a change in E1 in WT than Top2BKO, when\n",
    "#I only consider regions with correlated changes in gene expression and compartment eigen in WT."
   ]
  },
  {
   "cell_type": "code",
   "execution_count": null,
   "metadata": {},
   "outputs": [],
   "source": [
    "boxplot_df_corr_BKO[(boxplot_df_corr_BKO['GeneList'] == 'BKOOnly_Up') &\n",
    "                (boxplot_df_corr_BKO['Condition'] == 'BKO')\n",
    "               ].sort_values('E1_Diff')"
   ]
  },
  {
   "cell_type": "code",
   "execution_count": null,
   "metadata": {},
   "outputs": [],
   "source": [
    "boxplot_df_corr_BKO.to_csv(f'{outDataDir}/data/CorrelatedDEGBKO_GeneList_250kbE1.txt', \n",
    "                                            sep = '\\t', index = False)"
   ]
  },
  {
   "cell_type": "code",
   "execution_count": null,
   "metadata": {},
   "outputs": [],
   "source": [
    "#Plot diff of eigens - ATRA vs Control for each genotype - at all bins"
   ]
  },
  {
   "cell_type": "code",
   "execution_count": null,
   "metadata": {},
   "outputs": [],
   "source": [
    "eigs_diff = {}\n",
    "for (cond1, cond2) in zip(['WT_Ctrl_R1R2', 'BKO_Ctrl_R1R2'], ['WT_ATRA_R1R2', 'BKO_ATRA_R1R2']):\n",
    "    eigs_diff[f'{cond2}-{cond1}'] = eigs[cond2]['E1']-eigs[cond1]['E1']"
   ]
  },
  {
   "cell_type": "code",
   "execution_count": null,
   "metadata": {},
   "outputs": [],
   "source": [
    "eigs_diff"
   ]
  },
  {
   "cell_type": "code",
   "execution_count": null,
   "metadata": {},
   "outputs": [],
   "source": [
    "x = eigs_diff['WT_ATRA_R1R2-WT_Ctrl_R1R2']\n",
    "y = eigs_diff['BKO_ATRA_R1R2-BKO_Ctrl_R1R2']\n",
    "\n",
    "sns.regplot(x, y, ci=None, scatter_kws={\"s\": 0.5})\n",
    "\n",
    "plt.xlabel('WT_ATRA_R1R2-WT_Ctrl_R1R2')\n",
    "plt.ylabel('BKO_ATRA_R1R2-BKO_Ctrl_R1R2')\n",
    "\n",
    "plt.ylim(-2, 2)\n",
    "plt.xlim(-2, 2)\n",
    "\n",
    "#Overall positive correlation? So what is changed in WT is also changed in Top2BKO, in similar direction?"
   ]
  }
 ],
 "metadata": {
  "kernelspec": {
   "display_name": "Python 3 (ipykernel)",
   "language": "python",
   "name": "python3"
  },
  "language_info": {
   "codemirror_mode": {
    "name": "ipython",
    "version": 3
   },
   "file_extension": ".py",
   "mimetype": "text/x-python",
   "name": "python",
   "nbconvert_exporter": "python",
   "pygments_lexer": "ipython3",
   "version": "3.9.12"
  }
 },
 "nbformat": 4,
 "nbformat_minor": 4
}
